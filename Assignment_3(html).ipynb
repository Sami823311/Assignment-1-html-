{
  "nbformat": 4,
  "nbformat_minor": 0,
  "metadata": {
    "colab": {
      "provenance": []
    },
    "kernelspec": {
      "name": "python3",
      "display_name": "Python 3"
    },
    "language_info": {
      "name": "python"
    }
  },
  "cells": [
    {
      "cell_type": "code",
      "execution_count": null,
      "metadata": {
        "id": "pJ1O_ePWOkVr"
      },
      "outputs": [],
      "source": [
        "Q1 :  Build a simple webpage that displays text as shown in the below image."
      ]
    },
    {
      "cell_type": "code",
      "source": [
        "<!DOCTYPE html>\n",
        "<html lang=\"en\">\n",
        "<head>\n",
        "    <meta charset=\"UTF-8\">\n",
        "    <meta name=\"viewport\" content=\"width=device-width, initial-scale=1.0\">\n",
        "    <title>Assignment-4(html)</title>\n",
        "</head>\n",
        "<body>\n",
        "    <p><b>This text will be bolded.</b></p><br>\n",
        "    <p><i>This text will be italic.</i></p><br>\n",
        "    <p><u>This text will be underlined.</u></p><br>\n",
        "    <p><mark>This text will be highlighted.</mark></p><br>\n",
        "    <p>This is normal text<sup>This will be super scripted</sup>This is normal again</p><br>\n",
        "    <p>This is normal text<sub>This text will be subscripted</sub></p><br>\n",
        "    <p>Normal Text <small>Small text</small></p><br>\n",
        "    <p><del>This text will be deleted</del></p>\n",
        "</body>\n",
        "</html>"
      ],
      "metadata": {
        "id": "8O6CwkvgPj2j"
      },
      "execution_count": null,
      "outputs": []
    },
    {
      "cell_type": "markdown",
      "source": [
        "Q2 :  Build a simple webpage that helps users navigate different web development-related websites. Note: On\n",
        "clicking the hyperlink the web pages should open in a new tab. Below is a reference image."
      ],
      "metadata": {
        "id": "xgMcAtR6PvX0"
      }
    },
    {
      "cell_type": "code",
      "source": [
        "<!DOCTYPE html>\n",
        "<html lang=\"en\">\n",
        "<head>\n",
        "    <meta charset=\"UTF-8\">\n",
        "    <meta name=\"viewport\" content=\"width=device-width, initial-scale=1.0\">\n",
        "    <title>Navigate Me</Menu></title>\n",
        "</head>\n",
        "<body>\n",
        "    <p>Teke me to <a href=\"https://pwskills.com/\" target=\"_blank\">PW Skills</a> to buy a course.</p><br>\n",
        "    <p>Take me to <a href=\"https://developer.mozilla.org/en-US/\" target=\"_blank\">MDN docs</a> to know more about Web Development.</p><br>\n",
        "    <p>Take me to <a href=\"https://pwskills.com/\" target=\"_blank\">PW Skills Lab</a> to practice live coding.</p><br>\n",
        "</body>\n",
        "</html>"
      ],
      "metadata": {
        "id": "KHuKpSbURIeQ"
      },
      "execution_count": null,
      "outputs": []
    },
    {
      "cell_type": "markdown",
      "source": [
        "Q3 :  Build a simple blog web page with 3 pages home, web development, and web design. Each page must\n",
        "contain hyperlinks to other pages in the top, a heading of the page topic and a paragraph of information.\n",
        "For the home page you can add some information about yourself."
      ],
      "metadata": {
        "id": "1Nn2UcSyRPv_"
      }
    },
    {
      "cell_type": "markdown",
      "source": [
        "# Home"
      ],
      "metadata": {
        "id": "qgD6h2l0QH78"
      }
    },
    {
      "cell_type": "code",
      "source": [
        "<!DOCTYPE html>\n",
        "<html lang=\"en\">\n",
        "<head>\n",
        "    <meta charset=\"UTF-8\">\n",
        "    <meta name=\"viewport\" content=\"width=device-width, initial-scale=1.0\">\n",
        "    <title>Home Page</title>\n",
        "</head>\n",
        "<body>\n",
        "    <h2><u>Home Page</u></h2>\n",
        "    <nav>\n",
        "        <a href=\"home.html\">i) Home</a><br>\n",
        "        <a href=\"web-development.html\">ii) Wev Development</a><br>\n",
        "        <a href=\"web-design.html\">iii) Web Design</a><br>\n",
        "    </nav>\n",
        "    <p>\n",
        "        Hello! my friends. I am Sami and I am a student of IT 1st year.<br>\n",
        "        I am learning full stack web Development these days at PW Skills <br> and I am really\n",
        "        excited to share my experiance with you.<br> Since I have just started my journey\n",
        "        in web development therfore<br> I am learning html which stands for\n",
        "        \"Hyper Text Markup Language\". <br>By using html we form the basic\n",
        "        structure of a website and  I have written<br> this blog by using html as well.\n",
        "        html.\n",
        "    </p>\n",
        "\n",
        "</body>\n",
        "</html>"
      ],
      "metadata": {
        "id": "J7YFPccqQKGf"
      },
      "execution_count": null,
      "outputs": []
    },
    {
      "cell_type": "markdown",
      "source": [
        "# Web Development"
      ],
      "metadata": {
        "id": "SDOuYSgoQMEi"
      }
    },
    {
      "cell_type": "code",
      "source": [
        "<!DOCTYPE html>\n",
        "<html lang=\"en\">\n",
        "<head>\n",
        "    <meta charset=\"UTF-8\">\n",
        "    <meta name=\"viewport\" content=\"width=device-width, initial-scale=1.0\">\n",
        "    <title>Web-Development</title>\n",
        "</head>\n",
        "<body>\n",
        "    <h2><u>Web Development</u></h2>\n",
        "    <nav>\n",
        "        <a href=\"home.html\">i) Home</a><br>\n",
        "        <a href=\"web-development.html\">ii) Wev Development</a><br>\n",
        "        <a href=\"web-design.html\">iii) Web Design</a><br>\n",
        "    </nav>\n",
        "    <p>\n",
        "    Web development is the process of creating and maintaining websites or web applications.<br> It involves various aspects, such as coding, designing, and ensuring functionality.<br> Web development is often divided into three main areas:<br><br>\n",
        "\n",
        "1. Front-End Development: This focuses on the visual aspects of a website that users interact<br> with, such as layout, design, and buttons. It uses languages like HTML, CSS, and JavaScript.<br><br>\n",
        "\n",
        "2. Back-End Development: This manages the server, database, and application logic. It ensures<br> that everything runs smoothly behind the scenes, using technologies like Node.js, PHP, Python,<br> Ruby, and databases like MySQL or MongoDB.<br><br>\n",
        "\n",
        "3. Full-Stack Development: Full-stack developers handle both front-end and back-end tasks,<br> providing a complete solution from design to functionality.\n",
        "\n",
        "</p>\n",
        "</body>\n",
        "</html>"
      ],
      "metadata": {
        "id": "RshUZPpxQfC8"
      },
      "execution_count": null,
      "outputs": []
    },
    {
      "cell_type": "markdown",
      "source": [
        "# Web Design"
      ],
      "metadata": {
        "id": "csJGRp7QQizM"
      }
    },
    {
      "cell_type": "code",
      "source": [
        "<!DOCTYPE html>\n",
        "<html lang=\"en\">\n",
        "<head>\n",
        "    <meta charset=\"UTF-8\">\n",
        "    <meta name=\"viewport\" content=\"width=device-width, initial-scale=1.0\">\n",
        "    <title>Web Design</title>\n",
        "</head>\n",
        "<body>\n",
        "    <h2><u>Web Design</u></h2>\n",
        "    <nav>\n",
        "        <a href=\"home.html\">i) Home</a><br>\n",
        "        <a href=\"web-development.html\">ii) Wev Development</a><br>\n",
        "        <a href=\"web-design.html\">iii) Web Design</a><br>\n",
        "    </nav>\n",
        "    <p>\n",
        "        Web design is all about crafting visually appealing and user-friendly websites.<br> It focuses on the look and feel of a site, ensuring that users have a smooth and <br>enjoyable experience while navigating. Key aspects of web design include:<br><br>\n",
        "\n",
        "        1. Layout: Organizing elements like text, images, and buttons in a clean and intuitive way.<br><br>\n",
        "        2. Color Scheme: Choosing colors that evoke the right emotions and suit the brand's identity.<br><br>\n",
        "        3. Typography: Picking fonts that are readable and align with the style of the website.<br><br>\n",
        "        4. Responsive Design: Ensuring the website looks great and functions well on devices of all<br> sizes (phones, tablets, desktops).<br><br>\n",
        "        5. User Experience (UX): Enhancing how users interact with the website through thoughtful design.<br><br>\n",
        "        <p><b>Thank you so much for reading my blog.</b></p>\n",
        "\n",
        "    </p>\n",
        "</body>\n",
        "</html>"
      ],
      "metadata": {
        "id": "g5utGjvQQqip"
      },
      "execution_count": null,
      "outputs": []
    },
    {
      "cell_type": "markdown",
      "source": [
        "Q4 : Create an ordered list of HTML tags. Each list item must include the tag name and some information about\n",
        "the tag."
      ],
      "metadata": {
        "id": "5gTrRgvRQ2YG"
      }
    },
    {
      "cell_type": "code",
      "source": [
        "<!DOCTYPE html>\n",
        "<html lang=\"en\">\n",
        "<head>\n",
        "    <meta charset=\"UTF-8\">\n",
        "    <meta name=\"viewport\" content=\"width=device-width, initial-scale=1.0\">\n",
        "    <title>html tags</title>\n",
        "</head>\n",
        "<body>\n",
        "    <ol type=\"1\">\n",
        "        <li>!DOCTYPE html : Defines the version html.</li>\n",
        "        <li>head tag : Contain meta information about the document.</li>\n",
        "        <li>title tag : Set the title of the document which display in the browser tab.</li>\n",
        "        <li>body tag : Represent the main content of the document.</li>\n",
        "        <li>h1 to h6 tag : Header tags for creating headings of diffirent sizes.</li>\n",
        "        <li>p tag : It is used to define paragraph.</li>\n",
        "        <li>br tag : It is used for new line.</li>\n",
        "        <li>a tag : Anchor tag is used to create hyperlinks.</li>\n",
        "        <li>img tag : It embeds an image into the document.</li>\n",
        "        <li>ul tag : Defines an unordered list.</li>\n",
        "        <li>ol tag : Defines an ordered list.</li>\n",
        "        <li>li tag : It is used to list items inside ul tag or ol tag.</li>\n",
        "        <li> etc. </li>\n",
        "    </ol>\n",
        "</body>\n",
        "</html>"
      ],
      "metadata": {
        "id": "WkHjKV_0Xw6J"
      },
      "execution_count": null,
      "outputs": []
    },
    {
      "cell_type": "markdown",
      "source": [
        "Q5 :  Create a description list of full stack web development tech stack, using the dl tag. Each term should be a tech stack name and each description should be a brief explanation of what the tech stack is used for."
      ],
      "metadata": {
        "id": "sUwcfoNdX2Ef"
      }
    },
    {
      "cell_type": "code",
      "source": [
        "<!DOCTYPE html>\n",
        "<html lang=\"en\">\n",
        "<head>\n",
        "    <meta charset=\"UTF-8\">\n",
        "    <meta name=\"viewport\" content=\"width=device-width, initial-scale=1.0\">\n",
        "    <title>tech stack</title>\n",
        "</head>\n",
        "<body>\n",
        "    <dl>\n",
        "        <dt>html</dt>\n",
        "        <dd>html is used for structuring the websites like their header , footer , and main body.</dd>\n",
        "        <dt>CSS</dt>\n",
        "        <dd>CSS is used for styling the content of a website.</dd>\n",
        "        <dt>JavaScript</dt>\n",
        "        <dd>JavaScript is used to add functionality or interactivity in websites.</dd>\n",
        "        <dt>React.js</dt>\n",
        "        <dd>React.js is a JavaScript library for building user interfaces, especially single-page applications.</dd>\n",
        "        <dt>Node.js</dt>\n",
        "        <dd>Node.js is a runtime environment that allows running JavaScript on the server side.</dd>\n",
        "        <dt>Express.js</dt>\n",
        "        <dd>Express.js is a web application framework for Node.js, used to build APIs and handle server-side routing.</dd>\n",
        "        <dt>MongoDB</dt>\n",
        "        <dd>MongoDB is a  NoSQL database used to store and retrieve data.</dd>\n",
        "        <dt>Git</dt>\n",
        "        <dd>Git is a version control system for tracking changes in code and collaborating with other developers.</dd>\n",
        "    </dl>\n",
        "</body>\n",
        "</html>"
      ],
      "metadata": {
        "id": "4dJQdjW3bwNP"
      },
      "execution_count": null,
      "outputs": []
    },
    {
      "cell_type": "markdown",
      "source": [
        "Q6 :  Create an ordered list of the full stack web development tech stack HTML, CSS, and JS. For each tech\n",
        "stack, create a table that lists the tech stack name, its primary use cases, and some key features or\n",
        "benefits. Below is a reference image."
      ],
      "metadata": {
        "id": "lT6tQ-FCbxxC"
      }
    },
    {
      "cell_type": "code",
      "source": [
        "\n",
        "<!DOCTYPE html>\n",
        "<html lang=\"en\">\n",
        "<head>\n",
        "    <meta charset=\"UTF-8\">\n",
        "    <meta name=\"viewport\" content=\"width=device-width, initial-scale=1.0\">\n",
        "    <title>Tech stack</title>\n",
        "</head>\n",
        "<body>\n",
        "   <table border=\"1\">\n",
        "        <table border=\"1\">\n",
        "            <h1>1.HTML</h1>\n",
        "            <tr>\n",
        "                <th>Primary Use Cases</th>\n",
        "                <th>Key Features/Benefits</th>\n",
        "            </tr>\n",
        "            <td>Building the structure of web pages</td>\n",
        "            <td>\n",
        "                <ul>\n",
        "                    <li>Simple and easy to learn</li>\n",
        "                    <li>Compatible with all web browsers</li>\n",
        "                    <li>Allows for semantic markup</li>\n",
        "                </ul>\n",
        "            </td>\n",
        "        </table>\n",
        "        <table border=\"1\">\n",
        "            <h1>2.CSS</h1>\n",
        "            <tr>\n",
        "                <th>Primary Use cases</th>\n",
        "                <th>Key Features/Benefits</th>\n",
        "            </tr>\n",
        "            <tr>\n",
        "                <td>Styling and layout of web pages</td>\n",
        "                <td>\n",
        "                    <ul>\n",
        "                        <li>Allows for seperation of content and presentation</li>\n",
        "                        <li>Enable responsive design</li>\n",
        "                        <li>Offers a wide range of styling options</li>\n",
        "                    </ul>\n",
        "                </td>\n",
        "            </tr>\n",
        "        </table>\n",
        "        <table border=\"1\">\n",
        "            <h1>3.JaveScipt</h1>\n",
        "            <tr>\n",
        "                <th>Primary Use Cases</th>\n",
        "                <th>Key Features/Benefits</th>\n",
        "            </tr>\n",
        "            <tr>\n",
        "                <td>Adding functionality/interactivity to web pages</td>\n",
        "                <td>\n",
        "                    <ul>\n",
        "                        <li>Versatility: JavaScript works both client-side and server-side.</li>\n",
        "                        <li>Interactivity: It enables dynamic and interactive features.</li>\n",
        "                        <li>Speed: JavaScript runs directly in the browser.</li>\n",
        "                    </ul>\n",
        "                </td>\n",
        "            </tr>\n",
        "        </table>\n",
        "        <table border=\"1\">\n",
        "            <h1>4.React.Js</h1>\n",
        "            <tr>\n",
        "                <th>Primary Use Cases</th>\n",
        "                <th>Key Benefits/Features</th>\n",
        "            </tr>\n",
        "            <tr>\n",
        "                <td>Building User Interface of web pages</td>\n",
        "                <td>\n",
        "                    <ul>\n",
        "                        <li>Components-Based Architecture</li>\n",
        "                        <li>Virtual Dome</li>\n",
        "                        <li>Cross-Platform Development</li>\n",
        "                    </ul>\n",
        "                </td>\n",
        "            </tr>\n",
        "        </table>\n",
        "        <table border=\"1\">\n",
        "            <h1>5.Node.Js</h1>\n",
        "            <tr>\n",
        "                <th>Primary Use Cases</th>\n",
        "                <th>Key Benefits/Features</th>\n",
        "            </tr>\n",
        "            <tr>\n",
        "                <td>Server-Side Development , Task Automation</td>\n",
        "                <td>\n",
        "                    <ul>\n",
        "                        <li>High Performance</li>\n",
        "                        <li>Non-Blocking I/O Model</li>\n",
        "                        <li>Unified Development</li>\n",
        "                    </ul>\n",
        "                </td>\n",
        "            </tr>\n",
        "        </table>\n",
        "        <table border=\"1\">\n",
        "            <h1>6.Express.Js</h1>\n",
        "            <tr>\n",
        "                <th>Primary Use Cases</th>\n",
        "                <th>Key Benefits/Features</th>\n",
        "            </tr>\n",
        "            <tr>\n",
        "                <td>Used for building server-side web <br>\n",
        "                    applications and API's\n",
        "                </td>\n",
        "                <td>\n",
        "                    <ul>\n",
        "                        <li>RESTful APIs</li>\n",
        "                        <li>Middleware Integration</li>\n",
        "                        <li>Routing</li>\n",
        "                    </ul>\n",
        "                </td>\n",
        "            </tr>\n",
        "        </table>\n",
        "        <table border=\"1\">\n",
        "            <h1>7.Mongo DB</h1>\n",
        "            <tr>\n",
        "                <th>Primary Use Cases</th>\n",
        "                <th>Key Benefits/Features</th>\n",
        "            </tr>\n",
        "            <tr>\n",
        "                <td>Storing Big Data,Data Integration</td>\n",
        "                <td>\n",
        "                    <ul>\n",
        "                        <li>Powerful Query Language</li>\n",
        "                        <li>Flexibility</li>\n",
        "                        <li>Scalability</li>\n",
        "                    </ul>\n",
        "                </td>\n",
        "            </tr>\n",
        "        </table>\n",
        "   </table>\n",
        "</body>\n",
        "</html>"
      ],
      "metadata": {
        "id": "E1nkOxRjcaO0"
      },
      "execution_count": null,
      "outputs": []
    },
    {
      "cell_type": "markdown",
      "source": [
        "Q7 :  Build a complex nested list structure representing a multi-level table of contents. Use unordered lists\n",
        "(ul) and list items (li) with inline-block styling to create a structured layout. Apply formatting tags to\n",
        "enhance the presentation of list items."
      ],
      "metadata": {
        "id": "WRw-R_gmcO4q"
      }
    },
    {
      "cell_type": "code",
      "source": [
        "<!DOCTYPE html>\n",
        "<html lang=\"en\">\n",
        "<head>\n",
        "    <meta charset=\"UTF-8\">\n",
        "    <meta name=\"viewport\" content=\"width=device-width, initial-scale=1.0\">\n",
        "    <title>Document</title>\n",
        "</head>\n",
        "<body>\n",
        "    <table border=\"1\">\n",
        "        <ul>\n",
        "            <li>Part 1: Introduction</li>\n",
        "            <li>Part 2:Getting Started</li>\n",
        "            <ul>\n",
        "                <li>2.1 Installing the Software</li>\n",
        "                <li>2.2 Creating a New Project</li>\n",
        "                <ul>\n",
        "                    <li>2.2.1 Project Templates</li>\n",
        "                    <li>2.2.2 Customizing Settings</li>\n",
        "                </ul>\n",
        "                <li>2.3 Exploring the Interface</li>\n",
        "                <ul>\n",
        "                    <li>2.3.1 Toolbar Features</li>\n",
        "                    <li>2.3.2 Panel Layout</li>\n",
        "                    <ul>\n",
        "                        <li>2.3.2.1 Docking Panels</li>\n",
        "                        <li>2.3.2.2 Tabbed Interface</li>\n",
        "                    </ul>\n",
        "                </ul>\n",
        "            </ul>\n",
        "            <li>Part 3: Advanced Topics</li>\n",
        "            <ul>\n",
        "                <li>3.1 Working with Plugins</li>\n",
        "                <ul>\n",
        "                    <li>3.1.1 Installing Plugins</li>\n",
        "                    <li>3.1.2 Plugin Configuration</li>\n",
        "                </ul>\n",
        "                <li>3.2 Customizing the UI</li>\n",
        "                <ul>\n",
        "                    <li>3.2.1 Changing Themes</li>\n",
        "                    <li>3.2.2 Configuring Shortcuts</li>\n",
        "                </ul>\n",
        "                <li>3.3 Optimizing Performance</li>\n",
        "                <ul>\n",
        "                    <li>3.3.1 Caching Strategies</li>\n",
        "                    <li>3.3.2 Resource Minification</li>\n",
        "                </ul>\n",
        "            </ul>\n",
        "            <li>Part 4: Conclusion</li>\n",
        "        </ul>\n",
        "    </table>\n",
        "</body>\n",
        "</html>"
      ],
      "metadata": {
        "id": "j-GCMTK9cCWj"
      },
      "execution_count": null,
      "outputs": []
    },
    {
      "cell_type": "markdown",
      "source": [
        "Q8 :  Create a table to display a conference schedule. Each row corresponds to a time slot, and each column\n",
        "corresponds to a room. Some time slots might have multiple sessions running simultaneously in different\n",
        "rooms. Utilize rowspan and colspan attributes as necessary to accommodate this complex schedule.\n",
        "(use table attribute “cellpadding”  to give extra padding in each table cell )."
      ],
      "metadata": {
        "id": "ZTyLZrYzcbNR"
      }
    },
    {
      "cell_type": "code",
      "source": [
        "<!DOCTYPE html>\n",
        "<html lang=\"en\">\n",
        "<head>\n",
        "    <meta charset=\"UTF-8\">\n",
        "    <meta name=\"viewport\" content=\"width=device-width, initial-scale=1.0\">\n",
        "    <title>Conference Schedule</title>\n",
        "</head>\n",
        "<body>\n",
        "    <h1>Conference Schedule</h1>\n",
        "    <table border=\"1\">\n",
        "        <tr>\n",
        "            <th>Time</th>\n",
        "            <th>Room 1</th>\n",
        "            <th>Roo 2</th>\n",
        "            <th>Room 3</th>\n",
        "            <th>Room 4</th>\n",
        "        </tr>\n",
        "        <tr>\n",
        "            <td rowspan=\"3\">9:00 AM - 10:00 AM</td>\n",
        "            <td rowspan=\"2\">Keynote</td>\n",
        "            <td>Session A</td>\n",
        "            <td>Session B</td>\n",
        "            <td rowspan=\"3\">Session C</td>\n",
        "        </tr>\n",
        "        <tr>\n",
        "            <td>Session D</td>\n",
        "            <td>Session E</td>\n",
        "        </tr>\n",
        "        <tr>\n",
        "            <td>10:30 AM - 11:30 AM</td>\n",
        "            <td colspan=\"2\">Session F</td>\n",
        "        </tr>\n",
        "        <tr>\n",
        "            <td>12:00 PM - 1:00 PM</td>\n",
        "            <td colspan=\"4\">Lunch Break</td>\n",
        "        </tr>\n",
        "        <tr>\n",
        "            <td rowspan=\"2\">1:00 PM - 2:00PM</td>\n",
        "            <td>Session G</td>\n",
        "            <td rowspan=\"2\">Session H</td>\n",
        "            <td>Session I</td>\n",
        "            <td>Session J</td>\n",
        "        </tr>\n",
        "        <tr>\n",
        "            <td>Session K</td>\n",
        "            <td>Session L</td>\n",
        "            <td>Session M</td>\n",
        "        </tr>\n",
        "        </tr>\n",
        "    </table>\n",
        "</body>\n",
        "</html>"
      ],
      "metadata": {
        "id": "8sgrQIa2ckid"
      },
      "execution_count": null,
      "outputs": []
    }
  ]
}