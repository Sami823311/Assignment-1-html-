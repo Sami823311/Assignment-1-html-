{
  "nbformat": 4,
  "nbformat_minor": 0,
  "metadata": {
    "colab": {
      "provenance": []
    },
    "kernelspec": {
      "name": "python3",
      "display_name": "Python 3"
    },
    "language_info": {
      "name": "python"
    }
  },
  "cells": [
    {
      "cell_type": "markdown",
      "source": [
        "Q1 :  List out the features of HTML5\n",
        "\n",
        "Ans : html5 is the letest version of html. It has been disigned for creating\n",
        "structured web content, Backward compatible with older HTML versions, Improved\n",
        "support for multimedia, Better error handling. HTML has new elements ,attributes ,\n",
        "and behaviors , support for multimedia and better for error handling.\n",
        "HTML5 has new tags like article, aside, figure etc."
      ],
      "metadata": {
        "id": "Klb5iFh5i0pC"
      }
    },
    {
      "cell_type": "markdown",
      "source": [
        "Q2 : What are HTML Entities? List out 5 commonly used HTML entities\n",
        "\n",
        "Ans : HTML entities are special code to display reserved characters and to display invisible characters."
      ],
      "metadata": {
        "id": "tULo9vQadkjM"
      }
    },
    {
      "cell_type": "markdown",
      "source": [
        "Q3 : Define accessibility in the context of web development. Discuss why it's essential to create accessible\n",
        "websites and how it benefits different user group\"\n",
        "\n",
        "Ans : Accessibility in the context of web development we mean :\n",
        "\n",
        ". Making web content usable for everyone.\n",
        "\n",
        ". Includes people with disabilities.\n",
        "\n",
        ". Ensure equal access to informmation.\n",
        "\n",
        ". Enhances user experience.\n",
        "\n",
        "\n",
        "Why to use Accessibility? :\n",
        "\n",
        "Legal compliance (e.g., ADA, WCAG) .\n",
        "\n",
        "Inclusivity and social responsibility.\n",
        "\n",
        "Expands audience reach.\n",
        "\n",
        "Improves SEO.\n",
        "\n",
        "It benefits all users, not just those with disabilities.\n",
        "."
      ],
      "metadata": {
        "id": "AB3VcKdRdllp"
      }
    },
    {
      "cell_type": "markdown",
      "source": [
        "Q4 : List any 3 ways which help us in improving the accessibility of HTMl.\n",
        "\n",
        "Ans : . Use semantic html tags.\n",
        "      \n",
        "      . Provide alt tag for images.\n",
        "\n",
        "      . Ensure keyboard navigability."
      ],
      "metadata": {
        "id": "0CPosdiRio0h"
      }
    },
    {
      "cell_type": "markdown",
      "source": [
        "Q5 :  Create a web page that highlights the features of HTML5. Use appropriate semantic tags to structure the\n",
        "content and showcase at least three key features of HTML5 with explanations."
      ],
      "metadata": {
        "id": "2BYb7NQpjtB5"
      }
    },
    {
      "cell_type": "code",
      "source": [
        "<!DOCTYPE html>\n",
        "<html lang=\"en\">\n",
        "<head>\n",
        "    <meta charset=\"UTF-8\">\n",
        "    <meta name=\"viewport\" content=\"width=device-width, initial-scale=1.0\">\n",
        "    <title>HTML5 Features</title>\n",
        "</head>\n",
        "<body>\n",
        "\n",
        "<header>\n",
        "    <h1>Welcome to HTML5 Features</h1>\n",
        "    <p>Learn about the powerful features of HTML5!</p>\n",
        "</header>\n",
        "\n",
        "<nav>\n",
        "    <a href=\"#semantics\">Semantics</a> |\n",
        "    <a href=\"#multimedia\">Multimedia</a> |\n",
        "    <a href=\"#offline\">Offline Storage</a>\n",
        "</nav>\n",
        "\n",
        "<section>\n",
        "    <article>\n",
        "        <h2>Improved Semantics</h2>\n",
        "        <p>\n",
        "            HTML5 introduces new semantic elements like <code>&lt;header&gt;</code>, <code>&lt;nav&gt;</code>,\n",
        "            <code>&lt;section&gt;</code>, and <code>&lt;article&gt;</code>.These elements make the structure\n",
        "            of web pages more meaningful and easier for search engines and developers to understand.\n",
        "        </p>\n",
        "    </article>\n",
        "\n",
        "    <article>\n",
        "        <h2>Rich Multimedia</h2>\n",
        "        <p>\n",
        "            With HTML5, embedding videos and audio is seamless using <code>&lt;video&gt;</code> and <code>&lt;audio&gt;</code> tags.\n",
        "            No external plugins are needed, ensuring better compatibility across devices.\n",
        "        </p>\n",
        "        <video controls width=\"500\">\n",
        "            <source src=\"example.mp4\" type=\"video/mp4\">\n",
        "            Your browser does not support the video tag.\n",
        "        </video>\n",
        "    </article>\n",
        "    <article>\n",
        "        <h2>Offline Storage</h2>\n",
        "        <p>\n",
        "            HTML5 provides offline storage options through technologies like local storage and session storage.\n",
        "            This allows web applications to save data locally on the user's device, improving performance and\n",
        "            enabling offline functionality.\n",
        "        </p>\n",
        "    </article>\n",
        "</section>\n",
        "\n",
        "<footer>\n",
        "    <p>&copy; &reg; 2025 HTML5 Features Demo</p>\n",
        "</footer>\n",
        "\n",
        "</body>\n",
        "</html>"
      ],
      "metadata": {
        "id": "gwcKmfAL01Be"
      },
      "execution_count": null,
      "outputs": []
    },
    {
      "cell_type": "markdown",
      "source": [
        "Q6 : > Create a simple web page which has a table. The table must have 2 columns HTML and HTML5. The table\n",
        "should include a minimum of three rows describing the differences between HTML and HTML5."
      ],
      "metadata": {
        "id": "Nevh40BykK8a"
      }
    },
    {
      "cell_type": "code",
      "source": [
        "<!DOCTYPE html>\n",
        "<html lang=\"en\">\n",
        "<head>\n",
        "    <meta charset=\"UTF-8\">\n",
        "    <meta name=\"viewport\" content=\"width=device-width, initial-scale=1.0\">\n",
        "    <title>Document</title>\n",
        "</head>\n",
        "<body>\n",
        "    <table border=\"1\">\n",
        "        <tr>\n",
        "            <th>HTML</th>\n",
        "            <th>HTML5</th>\n",
        "        </tr>\n",
        "            <td>1. HTML has no audio tag and video tag.<br> It requires third part plugins.</td>\n",
        "            <td>1. HTML5 has audio tag and video tag. </td>\n",
        "        <tr>\n",
        "            <td>2. HTML has no graphics. It requires external <br>like Flash.</td>\n",
        "            <td>2. HTML5 introduces graphics canva and svg.</td>\n",
        "        </tr>\n",
        "        <tr>\n",
        "            <td>3. HTML has limited semantic tags.</td>\n",
        "            <td>3. HTML5 has new semantic tags like<br> header,footer,article,section.</td>\n",
        "        </tr>\n",
        "    </table>\n",
        "</body>\n",
        "</html>"
      ],
      "metadata": {
        "id": "znwHd6LCoXYp"
      },
      "execution_count": null,
      "outputs": []
    }
  ]
}