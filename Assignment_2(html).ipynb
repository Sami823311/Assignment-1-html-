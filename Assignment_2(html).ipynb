{
  "nbformat": 4,
  "nbformat_minor": 0,
  "metadata": {
    "colab": {
      "provenance": []
    },
    "kernelspec": {
      "name": "python3",
      "display_name": "Python 3"
    },
    "language_info": {
      "name": "python"
    }
  },
  "cells": [
    {
      "cell_type": "markdown",
      "source": [
        "#Assignment-2(html)\n",
        "Q1 :  Write a simple program in HTML  that displays the heading \"HTML defines the content and structure of your website” on the web browser?"
      ],
      "metadata": {
        "id": "ncm9bL8Ajb8l"
      }
    },
    {
      "cell_type": "code",
      "source": [
        "<!DOCTYPE html>\n",
        "<html>\n",
        "<head>\n",
        "    <title>HTML Basics</title>\n",
        "</head>\n",
        "<body>\n",
        "    <h1>HTML defines the content and structure of your website</h1>\n",
        "</body>\n",
        "</html>"
      ],
      "metadata": {
        "id": "SiSUAitIkAVX"
      },
      "execution_count": null,
      "outputs": []
    },
    {
      "cell_type": "markdown",
      "source": [
        "Q2 :  Explain the purpose of comments in HTML and provide an example of how to use comments in an HTML document?\n",
        "\n",
        "Ans : Comments in HTML serve the purpose of adding notes or explanations within the code that are not visible in the browser when the page is rendered. They are primarily used for:\n",
        "\n",
        ". Documentation: To explain the purpose of specific parts of the code or provide instructions for developers.\n",
        "\n",
        ". Debugging: To temporarily \"turn off\" portions of the code by commenting them out.\n",
        "\n",
        ". Collaboration: To make the code easier for others (or yourself later) to understand, especially in team projects.\n",
        "\n"
      ],
      "metadata": {
        "id": "ElKLEcOPkCFc"
      }
    },
    {
      "cell_type": "code",
      "source": [
        "<!DOCTYPE html>\n",
        "<html>\n",
        "<head>\n",
        "    <title>Comment Example</title>\n",
        "</head>\n",
        "<body>\n",
        "    <!-- This is a heading -->\n",
        "    <h1>Welcome to my website</h1>\n",
        "\n",
        "    <!-- Below is a paragraph describing the website -->\n",
        "    <p>This website is under construction. Please check back later!</p>\n",
        "</body>\n",
        "</html>"
      ],
      "metadata": {
        "id": "nrSGnPs-k1eH"
      },
      "execution_count": null,
      "outputs": []
    },
    {
      "cell_type": "markdown",
      "source": [
        "In this case, the comment  is ignored by the browser, but it serves as helpful information for anyone reading the code."
      ],
      "metadata": {
        "id": "P3BkDqZ3k4oP"
      }
    },
    {
      "cell_type": "markdown",
      "source": [
        "Q3 : Write an HTML program that includes a heading, a paragraph of text, a horizontal line, and a line break. Arrange these elements to create a simple web page layout?"
      ],
      "metadata": {
        "id": "PEu4N7eklGRA"
      }
    },
    {
      "cell_type": "code",
      "source": [
        "<!DOCTYPE html>\n",
        "<html>\n",
        "<head>\n",
        "    <title>Simple Web Page</title>\n",
        "</head>\n",
        "<body>\n",
        "    <h1>Welcome to My Web Page</h1> <!-- Heading -->\n",
        "\n",
        "    <p>This is a sample paragraph describing the content of the page. HTML makes it easy to structure your website with different elements.</p> <!-- Paragraph -->\n",
        "\n",
        "    <hr> <!-- Horizontal line -->\n",
        "\n",
        "    <p>Here’s another paragraph after the horizontal line.</p>\n",
        "\n",
        "    <br> <!-- Line break -->\n",
        "\n",
        "    <p>This text comes after the line break for added spacing.</p>\n",
        "</body>\n",
        "</html>"
      ],
      "metadata": {
        "id": "Fiv5Qpi6lWrt"
      },
      "execution_count": null,
      "outputs": []
    },
    {
      "cell_type": "markdown",
      "source": [
        "Q4 :  Write a short note on Tag and element with an example?\n",
        "\n",
        "Ans :\n",
        ". Tag: A tag is a part of HTML syntax used to define an HTML element. Tags are typically enclosed within angle brackets (<>) and come in pairs: an opening tag (e.g.,h1 tag ) and a closing tag (e.g., /h1). Some tags, like img tag and ,br tag are self-closing and don't require a closing counterpart.\n",
        "\n",
        ". Element :  An element refers to the complete HTML structure that includes the opening tag, content (if any), and closing tag. It is the building block of an HTML document, representing a specific part of the webpage.\n",
        "\n",
        "Example :"
      ],
      "metadata": {
        "id": "MfUbPjGnlf1X"
      }
    },
    {
      "cell_type": "code",
      "source": [
        "<h1>This is a heading</h1>\n"
      ],
      "metadata": {
        "id": "2gO8bQiunR_L"
      },
      "execution_count": null,
      "outputs": []
    },
    {
      "cell_type": "markdown",
      "source": [
        "Q5 : What is the DOCTYPE Declaration in HTML?\n",
        "\n",
        "Ans : The DOCTYPE declaration in HTML is a directive that defines the type of HTML document and specifies the version of HTML being used. It is placed at the very beginning of an HTML file, before the html tag. The browser uses this declaration to render the webpage correctly and determine how to interpret the HTML code.\n",
        "\n"
      ],
      "metadata": {
        "id": "NkkbvSAtnWrD"
      }
    },
    {
      "cell_type": "markdown",
      "source": [],
      "metadata": {
        "id": "btvV7Z6TjSoO"
      }
    },
    {
      "cell_type": "code",
      "source": [
        "<!DOCTYPE html>"
      ],
      "metadata": {
        "id": "RPoRiwm0oWkh"
      },
      "execution_count": null,
      "outputs": []
    },
    {
      "cell_type": "markdown",
      "source": [
        "Key Points 🇰\n",
        "\n",
        ". It is not an HTML tag; it's just an instruction to the browser.\n",
        "\n",
        ". It helps maintain consistency in how the webpage is displayed across different browsers."
      ],
      "metadata": {
        "id": "lXQAoTmHoXGW"
      }
    },
    {
      "cell_type": "markdown",
      "source": [],
      "metadata": {
        "id": "PVX0z3CJoeXZ"
      }
    }
  ]
}